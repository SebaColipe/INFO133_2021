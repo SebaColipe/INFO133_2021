{
 "cells": [
  {
   "cell_type": "code",
   "execution_count": null,
   "id": "5d416e7f",
   "metadata": {},
   "outputs": [],
   "source": [
    "!python -V\n",
    "!pip -V"
   ]
  },
  {
   "cell_type": "markdown",
   "id": "45b7fa37",
   "metadata": {},
   "source": [
    "## 1. Objetivos del notebook\n",
    "\n",
    "Las APIs son aplicaciones muy populares que sirven de interfaz para intercambiar datos entre aplicaciones distintas. Este _notebook_ tiene por objetivos principal de familiarizarse con este concepto:\n",
    "- desarrollando una API básica con Python y la librería Flask,\n",
    "- describiendo algunos principios de buen diseño de API,\n",
    "- construyendo una API para nuestra base de datos \"Sophia2\"\n",
    "- utilizando la API de Twitter"
   ]
  },
  {
   "cell_type": "markdown",
   "id": "6d8f5f83",
   "metadata": {},
   "source": [
    "## 2. ¿Qué es una API Web?\n",
    "\n",
    "### 2.1 Definición\n",
    "\n",
    "El termino API (__Application Programming Interface__) no es específico a las aplicaciones web. En informática, en general se refiere a una __parte de un programa diseñado para ser utilizado o manipulado por otro programa__ (ej: métodos públicos de una clase Java). A diferencia de una interfaz diseñada para ser utilizada o manipulada por un ser humano, los programas a menudo necesitan comunicarse entre sí o con el sistema operativo subyacente, y las API son una forma de hacerlo.\n",
    "\n",
    "Una __API web__ permite que la información o funcionalidad de una aplicación sea manipulada por otros programas a través de Internet. Por ejemplo, con la API web de Twitter (https://developer.twitter.com/en/docs/twitter-api), puedes escribir un programa en un lenguaje como Python o Javascript que puede realizar tareas como favorecer tweets o recopilar metadatos de tweets."
   ]
  },
  {
   "cell_type": "markdown",
   "id": "d1ba0761",
   "metadata": {},
   "source": [
    "### 2.2 ¿Cuándo crear una API Web?\n",
    "\n",
    "En general, considere crear una API web si queremos compartir datos y:\n",
    "- nuestros datos son grandes, lo que hace que la descarga sea difícil de manejar o requiera muchos recursos.\n",
    "- nuestros datos cambian o se actualizan con frecuencia.\n",
    "\n",
    "- nuestros usuarios necesitarán acceder a sus datos en tiempo real, por ejemplo para mostrarlos en otro sitio web o como parte de una aplicación.\n",
    "- nuestros usuarios sólo necesitan acceder a una parte de los datos en un momento dado.\n",
    "- nuestros usuarios tendrán que realizar acciones distintas a la recuperación de datos, como contribuir, actualizar o eliminar datos.\n",
    "\n",
    "Si tiene datos que desea compartir con el mundo, una API es una forma de ponerlos en manos de otros. Sin embargo, las API no siempre son la mejor manera de compartir datos con los usuarios. Si el tamaño de los datos que está proporcionando es relativamente pequeño, puede proporcionar un __dump de datos__ en forma de archivo descargable JSON, XML, CSV o SQLite. Dependiendo de sus recursos, este enfoque puede ser viable hasta un tamaño de descarga de unos pocos gigabytes."
   ]
  },
  {
   "cell_type": "markdown",
   "id": "3f256035",
   "metadata": {},
   "source": [
    "### 2.3 Conceptos asociados: _HTTP_, _URL_, _JSON_\n",
    "\n",
    "Al utilizar o crear APIs, encontrará estos términos con frecuencia:\n",
    "\n",
    "- <b>HTTP</b> (Hypertext Transfer Protocol) es un protocolo que implementa una serie de \"métodos\" que permite manipular recursos (datos o aplicaciones) de un servidor desde un computador cliente. Los dos más comunes son GET, que extrae datos de un servidor, y POST, que empuja nuevos datos a un servidor.\n",
    "- <b>URL</b> (Uniform Resource Locator) - Una dirección para un recurso en la web.\n",
    "- <b>JSON</b> (JavaScript Object Notation) es un formato de almacenamiento de datos basado en texto que está diseñado para ser fácil de leer tanto para humanos como para máquinas. JSON es generalmente el formato más común para devolver datos a través de una API, siendo XML el segundo más común.\n"
   ]
  },
  {
   "cell_type": "markdown",
   "id": "0aa3f380",
   "metadata": {},
   "source": [
    "### 2.4 ¿Que quieren los usuarios de una API? ¡Un buen diseño y una buena documentación!\n",
    "\n",
    "La documentación es el punto de partida de un usuario cuando trabaja con una nueva API, y las URL bien diseñadas facilitan a los usuarios la búsqueda intuitiva de recursos. Dado que ayudan a los usuarios a acceder rápidamente a la información a través de su API, estos elementos (documentación y URL bien concebidas) son la condición sine qua non de una buena API.\n",
    "\n",
    "A medida que utilice otras APIs en sus proyectos, desarrollará un sentido de lo que constituye una buena API desde la perspectiva de un usuario potencial. Del mismo modo que los lectores fuertes a menudo hacen escritores fuertes, el uso de APIs creadas por otros y la evaluación crítica de su implementación y documentación le ayudará a diseñar mejor sus propias APIs.\n",
    "\n",
    "Ver APIs de Twitter: https://developer.twitter.com/en/docs.html"
   ]
  },
  {
   "cell_type": "markdown",
   "id": "d5b74e1e",
   "metadata": {},
   "source": [
    "## 3. Desarrollar una API web básica con Python y Flask\n",
    "\n",
    "### 3.1 Instalación de las librerías\n",
    "\n",
    "Para este tutorial, necesitará Python 3 y la librería <i>Flask</i> (una librería Python que permite desarrollar aplicación web).\n",
    "\n",
    "Una vez instalado <code>flask</code>, ejecutar el código siguiente para verificar que se instaló corectamente.\n",
    "\n",
    "NB: Pueden ejecutar el código desde Jupyter Notebook (si lo tienen instalado) o un script Python que pueden llamar <code>server.py</code> por ejemplo."
   ]
  },
  {
   "cell_type": "code",
   "execution_count": null,
   "id": "34842644",
   "metadata": {},
   "outputs": [],
   "source": [
    "!pip install flask"
   ]
  },
  {
   "cell_type": "code",
   "execution_count": null,
   "id": "71e809e9",
   "metadata": {},
   "outputs": [],
   "source": [
    "from flask import Flask\n",
    "app = Flask(__name__)\n",
    "\n",
    "@app.route(\"/\")\n",
    "def hello():\n",
    "    return \"<h1>¡Hola Mundo!</h1> <p>Bienvenido en nuestra aplicación web básica en Python</p>\"\n",
    "\n",
    "if __name__ == \"__main__\":\n",
    "    app.run(debug=False,port=1234)"
   ]
  },
  {
   "cell_type": "markdown",
   "id": "7236b608",
   "metadata": {},
   "source": [
    "### 3.3 Creación de una primera API básica: Catalogo de libros de una librería\n",
    "\n",
    "Vamos a desarrolla una API que propone compartir datos de los libros disponibles en una librería. Además del __título__ y la __fecha de publicación__, nuestra API también indicará la __primera frase__ de cada libro. Estos datos deberían ser suficientes para permitirnos visualizar algunas preguntas potenciales de investigación sin abrumarnos mientras nos enfocamos en el diseño de nuestra API. "
   ]
  },
  {
   "cell_type": "code",
   "execution_count": null,
   "id": "2c9ec7d7",
   "metadata": {},
   "outputs": [],
   "source": [
    "import flask\n",
    "from flask import request, jsonify\n",
    "\n",
    "app = flask.Flask(__name__)\n",
    "\n",
    "# Create some test data for our catalog in the form of a list of dictionaries.\n",
    "books = [\n",
    "    {'id': 0,\n",
    "     'title': 'A Fire Upon the Deep',\n",
    "     'author': 'Vernor Vinge',\n",
    "     'first_sentence': 'The coldsleep itself was dreamless.',\n",
    "     'year_published': '1992'},\n",
    "    {'id': 1,\n",
    "     'title': 'The Ones Who Walk Away From Omelas',\n",
    "     'author': 'Ursula K. Le Guin',\n",
    "     'first_sentence': 'With a clamor of bells that set the swallows soaring, the Festival of Summer came to the city Omelas, bright-towered by the sea.',\n",
    "     'published': '1973'},\n",
    "    {'id': 2,\n",
    "     'title': 'Dhalgren',\n",
    "     'author': 'Samuel R. Delany',\n",
    "     'first_sentence': 'to wound the autumnal city.',\n",
    "     'published': '1975'}\n",
    "]\n",
    "\n",
    "\n",
    "@app.route('/', methods=['GET'])\n",
    "def home():\n",
    "    return \"<h1>¡Hola Mundo!</h1> <p>Bienvenido en nuestra aplicación web básica en Python</p>\"\n",
    "\n",
    "# A route to return all of the available entries in our catalog.\n",
    "@app.route('/api/v1/resources/books/all', methods=['GET'])\n",
    "def api_all():\n",
    "    return jsonify(books)\n",
    "\n",
    "app.run(debug=False,port=1234)"
   ]
  },
  {
   "cell_type": "markdown",
   "id": "45f27d5f",
   "metadata": {},
   "source": [
    "Una vez que el servidor esté funcionando, visite nuestra URL con la ruta que permite ver los datos en el catálogo:\n",
    "\n",
    "http://127.0.0.1:1234/api/v1/resources/books/all\n",
    "\n",
    "Debería ver la salida JSON de las tres entradas en nuestro catálogo de pruebas. Flask nos proporciona una función <code>jsonify</code> que nos permite convertir listas y diccionarios al formato JSON. En la ruta que creamos, nuestras entradas de libro se convierten de una lista de diccionarios Python a JSON antes de ser devueltas a un usuario.\n",
    "\n",
    "En este punto, ha creado una API que funciona, aunque limitada. En la siguiente sección, permitiremos a los usuarios encontrar libros a través de datos más específicos, como el ID de una entrada."
   ]
  },
  {
   "cell_type": "markdown",
   "id": "e074bec6",
   "metadata": {},
   "source": [
    "### 3.4 Encontrar recursos específicos\n",
    "\n",
    "En este momento, los usuarios sólo pueden ver toda nuestra base de datos, no pueden filtrar ni encontrar recursos específicos. Si bien esto no es un problema con nuestro catálogo de pruebas, rápidamente se volverá menos útil a medida que agreguemos datos. En esta sección, añadiremos una función que permite a los usuarios filtrar los resultados devueltos mediante una petición más específica.\n",
    "\n",
    "A continuación se muestra el código de nuestra nueva aplicación con capacidad de filtrado. Como antes, examinaremos el código más cuidadosamente una vez que lo tenga en funcionamiento."
   ]
  },
  {
   "cell_type": "code",
   "execution_count": null,
   "id": "99d34566",
   "metadata": {},
   "outputs": [],
   "source": [
    "import flask\n",
    "from flask import request, jsonify\n",
    "\n",
    "app = flask.Flask(__name__)\n",
    "\n",
    "# Create some test data for our catalog in the form of a list of dictionaries.\n",
    "books = [\n",
    "    {'id': 0,\n",
    "     'title': 'A Fire Upon the Deep',\n",
    "     'author': 'Vernor Vinge',\n",
    "     'first_sentence': 'The coldsleep itself was dreamless.',\n",
    "     'year_published': '1992'},\n",
    "    {'id': 1,\n",
    "     'title': 'The Ones Who Walk Away From Omelas',\n",
    "     'author': 'Ursula K. Le Guin',\n",
    "     'first_sentence': 'With a clamor of bells that set the swallows soaring, the Festival of Summer came to the city Omelas, bright-towered by the sea.',\n",
    "     'published': '1973'},\n",
    "    {'id': 2,\n",
    "     'title': 'Dhalgren',\n",
    "     'author': 'Samuel R. Delany',\n",
    "     'first_sentence': 'to wound the autumnal city.',\n",
    "     'published': '1975'}\n",
    "]\n",
    "\n",
    "\n",
    "@app.route('/', methods=['GET'])\n",
    "def home():\n",
    "    return '''<h1>Nuestra API: Open Books</h1>\n",
    "<p>Un prototipo de API para acceder a libros de ciencia ficción.</p>'''\n",
    "\n",
    "\n",
    "@app.route('/api/v1/resources/books/all', methods=['GET'])\n",
    "def api_all():\n",
    "    return jsonify(books)\n",
    "\n",
    "\n",
    "@app.route('/api/v1/resources/books', methods=['GET'])\n",
    "def api_id():\n",
    "    # Check if an ID was provided as part of the URL.\n",
    "    # If ID is provided, assign it to a variable.\n",
    "    # If no ID is provided, display an error in the browser.\n",
    "    if 'id' in request.args:\n",
    "        id = int(request.args['id'])\n",
    "    else:\n",
    "        return \"Error: No id field provided. Please specify an id.\"\n",
    "\n",
    "    # Create an empty list for our results\n",
    "    results = []\n",
    "\n",
    "    # Loop through the data and match results that fit the requested ID.\n",
    "    # IDs are unique, but other fields might return many results\n",
    "    for book in books:\n",
    "        if book['id'] == id:\n",
    "            results.append(book)\n",
    "\n",
    "    # Use the jsonify function from Flask to convert our list of\n",
    "    # Python dictionaries to the JSON format.\n",
    "    return jsonify(results)\n",
    "\n",
    "\n",
    "app.run(debug=False,port=1234)"
   ]
  },
  {
   "cell_type": "markdown",
   "id": "d220ea09",
   "metadata": {},
   "source": [
    "Visite las siguientes URLs para probar la nueva capacidad de su API:\n",
    "\n",
    "- http://127.0.0.1:1234/api/v1/resources/books?id=0\n",
    "- http://127.0.0.1:1234/api/v1/resources/books?id=1\n",
    "- http://127.0.0.1:1234/api/v1/resources/books?id=2\n",
    "- http://127.0.0.1:1234/api/v1/resources/books?id=3\n",
    "\n",
    "Cada uno de ellos debe devolver una entrada diferente, excepto el último, que debe devolver una lista vacía: [], ya que no hay ningún libro para el cual el valor de id sea 3. (El conteo en la programación típicamente comienza en 0, así que id=3 sería una petición para un cuarto ítem inexistente.\n",
    "\n",
    "Examine la URL proporcionada para una identificación y seleccione los libros que coincidan con esa identificación. La identificación debe ser proporcionada de esta manera: ?id=0. Los datos pasados a través de URLs como ésta (después del ?) se llaman parámetros de consulta. Son una característica de HTTP utilizada para filtrar tipos específicos de datos.\n"
   ]
  },
  {
   "cell_type": "markdown",
   "id": "586ae5bf",
   "metadata": {},
   "source": [
    "## 4. Creación de una segunda API básica conectada al SGBD MongoDB\n",
    "\n",
    "Vamos a crear una segunda API pero esta vez la API será conectada a Mongo para gestionar el almacenamiento de los datos.\n",
    "\n",
    "La Base de Datos utilizada en esta sección es la base 'sophia2', una base de datos que hemos utizada en el tutorial anterior."
   ]
  },
  {
   "cell_type": "code",
   "execution_count": null,
   "id": "6335215e",
   "metadata": {},
   "outputs": [],
   "source": [
    "!pip install flask_pymongo"
   ]
  },
  {
   "cell_type": "code",
   "execution_count": null,
   "id": "a610a5dc",
   "metadata": {},
   "outputs": [],
   "source": [
    "import flask\n",
    "import json\n",
    "from flask import request, jsonify\n",
    "\n",
    "# Creación de una nueva aplicación web\n",
    "app = flask.Flask(__name__)\n",
    "\n",
    "# Definición de las rutas\n",
    "\n",
    "@app.route('/', methods=['GET'])\n",
    "def home():\n",
    "    return '''<h1>API Sophia2</h1>\n",
    "<p>Un prototipo de API para la base de datos Sophia2.</p>'''\n",
    "\n",
    "@app.errorhandler(404)\n",
    "def page_not_found(e):\n",
    "    return \"<h1>404</h1><p>The resource could not be found.</p>\", 404\n",
    "\n",
    "@app.route('/api_sophia2/v1/resources/news/all', methods=['GET'])\n",
    "def api_all():\n",
    "    ## Consultar Mongo para obtener datos sobre las noticias\n",
    "    json_data=[]\n",
    "    collection = db['news']\n",
    "    for document in collection.find():\n",
    "        json_data.append(document)\n",
    "    return jsonify(json_data)\n",
    "\n",
    "app.run(debug=False,port=1234)"
   ]
  },
  {
   "cell_type": "code",
   "execution_count": null,
   "id": "2372a54e",
   "metadata": {},
   "outputs": [],
   "source": [
    "from flask import Flask\n",
    "from flask import jsonify\n",
    "from flask import request\n",
    "from flask_pymongo import PyMongo\n",
    "\n",
    "app = Flask(__name__)\n",
    "\n",
    "app.config['MONGO_DBNAME'] = 'sophia2'\n",
    "app.config['MONGO_URI'] = 'mongodb://localhost:27017/sophia2'\n",
    "\n",
    "mongo = PyMongo(app)\n",
    "\n",
    "@app.route('/api_sophia2/v1/resources/news/all', methods=['GET'])\n",
    "def get_all_news():\n",
    "    news = mongo.db.news\n",
    "    output = []\n",
    "    for n in news.find():\n",
    "        output.append({'url' : n['url'], 'title' : n['title'], 'date': n['date']})\n",
    "    return jsonify({'result' : output})\n",
    "\n",
    "\n",
    "@app.route('/api_sophia2/v1/resources/news', methods=['GET'])\n",
    "def get_specific_news_by_parameters():\n",
    "    news = mongo.db.news\n",
    "    output = []\n",
    "    \n",
    "    #parameters: \"date\" y \"search\"\n",
    "    date = request.args['date']\n",
    "    search = request.args['search']\n",
    "        \n",
    "    if (date==\"null\"):\n",
    "        for n in news.find({'title': {'$regex' : \".*\"+search+\".*\"}}):\n",
    "            output.append({'url' : n['url'], 'title' : n['title'], 'date': n['date']})\n",
    "    \n",
    "    else:\n",
    "        for n in news.find({'date':date, 'title': {'$regex' : \".*\"+search+\".*\"}}):\n",
    "            output.append({'url' : n['url'], 'title' : n['title'], 'date': n['date']})\n",
    "    \n",
    "    if len(output) == 0:\n",
    "        return(\"No hay noticia en la fecha:\"+date+\" que tenga la palabra: \"+search)\n",
    "    \n",
    "    return jsonify({'result' : output})\n",
    "\n",
    "@app.route('/api_sophia2/v1/resources/news', methods=['POST'])\n",
    "def add_news():\n",
    "    news = mongo.db.news\n",
    "    title = request.args['title']\n",
    "    date = request.args['date']\n",
    "    url = request.args['url']\n",
    "    text = request.args['text']\n",
    "    \n",
    "    news_id = news.insert({'title': title, 'date': date, 'url': url, text:'text'})\n",
    "    inserted_news = news.find_one({'_id': news_id })\n",
    "  \n",
    "    output = {'title' : inserted_news['title'], 'date' : inserted_news['date']}\n",
    "    return jsonify({'result' : output})\n",
    "\n",
    "\n",
    "app.run(debug=False,port=1234)"
   ]
  },
  {
   "cell_type": "markdown",
   "id": "fb24f2c6",
   "metadata": {},
   "source": [
    "Para probar el método POST, copiar el código siguiente en script \"cliente\":"
   ]
  },
  {
   "cell_type": "code",
   "execution_count": null,
   "id": "b7ab9b74",
   "metadata": {},
   "outputs": [],
   "source": [
    "import requests\n",
    "\n",
    "params = {\"title\":\"test\", \"url\":\"www\", \"text\":\"un texto\", \"date\":\"2021-06-23\"}\n",
    "headers = {'content-type': 'application/json'}\n",
    "\n",
    "url = \"http://127.0.0.1:1234/api_sophia2/v1/resources/news\"\n",
    "\n",
    "result = requests.post(url, params=params, headers=headers)\n",
    "\n",
    "print(r.content)"
   ]
  },
  {
   "cell_type": "markdown",
   "id": "e87ee592",
   "metadata": {},
   "source": [
    "## 5. Buenas prácticas de diseño de API\n",
    "\n",
    "Antes de incluir más funcionalidad en nuestra aplicación, reflexionemos sobre algunas de las decisiones de diseño de API que hemos tomado hasta ahora. Dos aspectos de una buena API son la usabilidad y la mantenibilidad, y a medida que incorporemos más funcionalidad a nuestra API, tendremos en cuenta muchas de las siguientes consideraciones.\n",
    "\n",
    "### 5.1 Definir acciones sobre los recursos con POST, GET, PUT y DELETE\n",
    "\n",
    "La filosofía de diseño predominante de las API modernas se llama REST. Para nuestros propósitos, lo más importante de REST es que se basa en los cuatro métodos definidos por el protocolo HTTP: POST, GET, PUT y DELETE. Estas corresponden a las cuatro acciones tradicionales realizadas sobre los datos de una base de datos: CREAR, LEER, ACTUALIZAR y BORRAR. En este tutorial, sólo nos ocuparemos de las peticiones GET, que corresponden a la lectura de una base de datos.\n",
    "\n",
    "### 5.2 Evitar incluir el tipo de acción en el URL\n",
    "\n",
    "Consideremos un ejemplo débil o mal diseñado de un punto final de la API:\n",
    "\n",
    "<code> http://api.example.com/getbook/10 </code>\n",
    "\n",
    "El formato de esta consulta tiene varios problemas. El primero es semántico - en una API REST, nuestros verbos son típicamente GET, POST, PUT, o DELETE, y están determinados por el método de petición en lugar de por la URL de petición. Esto significa que la palabra \"get\" no debería aparecer en nuestra petición, ya que \"get\" está implícito en el hecho de que estamos usando un método HTTP GET. Además, las colecciones de recursos, como los libros o los usuarios, deben indicarse con sustantivos plurales. Esto deja claro cuando una API se refiere a una colección (libros) o una entrada (libro). Incorporando estos principios, nuestra API se vería así:\n",
    "\n",
    "<code>http://api.example.com/books/10</code>"
   ]
  },
  {
   "cell_type": "markdown",
   "id": "041bc5f1",
   "metadata": {},
   "source": [
    "### 5.3 Evitar poner parametros en la ruta, mejor definirlos como parámetros\n",
    "\n",
    "La consulta anterior utiliza parte de la ruta (/10) para proporcionar el ID. Aunque este no es un enfoque poco común, es un algo inflexible: con las URL construidas de esta manera, por lo general sólo se puede filtrar por un campo a la vez. Los parámetros de consulta permiten filtrar por múltiples campos de base de datos y tienen más sentido cuando se proporcionan datos \"opcionales\", como un formato de salida:\n",
    "\n",
    "<code>http://api.example.com/books?author=Ursula+K.+LeGuin&published=1969&output=xml</code>"
   ]
  },
  {
   "cell_type": "markdown",
   "id": "4b720d72",
   "metadata": {},
   "source": [
    "### 5.4 Planificar las adiciones futuras\n",
    "\n",
    "Al diseñar cómo deben estructurarse las consultas a su API, también tiene sentido planificar las adiciones futuras. Incluso si la versión actual de su API sólo ofrece información sobre un tipo de recursos (por ejemplo, libros), tiene sentido planificar como si pudiera añadir otros recursos o funciones que no sean recursos a su API en el futuro:\n",
    "\n",
    "<code>http://api.example.com/resources/books?id=10</code>\n",
    "\n",
    "Agregar un segmento adicional en la ruta, como \"recursos\" o \"entradas\", le da la opción de permitir que los usuarios busquen en todos los recursos disponibles, lo que le facilita las solicitudes de soporte posteriores como éstas:\n",
    "\n",
    "<code>https://api.example.com/v1/resources/images?id=10</code>\n",
    "\n",
    "<code>https://api.example.com/v1/resources/all</code>"
   ]
  },
  {
   "cell_type": "markdown",
   "id": "c9c04942",
   "metadata": {},
   "source": [
    "### 5.5 Definir versiones de su API\n",
    "\n",
    "Otra forma de planificar el futuro de su API es añadir un número de versión a la ruta. Esto significa que, en caso de que tenga que rediseñar su API, puede seguir soportando la versión antigua de la API con el número de versión antiguo mientras libera, por ejemplo, una segunda versión (v2) con funcionalidad mejorada o diferente. De esta manera, las aplicaciones y los scripts creados utilizando la versión antigua de su API no dejarán de funcionar después de la actualización.\n",
    "\n",
    "Después de incorporar estas mejoras de diseño, una solicitud a nuestra API podría verse así:\n",
    "\n",
    "<code>https://api.example.com/v1/resources/books?id=10</code>\n",
    "\n",
    "### 5.6 Inspirarse de otras API bien estructuradas y documentadas\n",
    "\n",
    "Sin documentación, incluso la API mejor diseñada será inutilizable. Su API debe tener documentación que describa los recursos o la funcionalidad disponibles a través de su API que también proporcione ejemplos concretos de URL de solicitud o código para su API. Debe tener una sección para cada recurso que describa qué campos, como el id o el título, acepta. Cada sección debe tener un ejemplo en forma de una solicitud HTTP de ejemplo o un bloque de código.\n",
    "\n",
    "Para obtener inspiración sobre cómo abordar la documentación de la API, consulte por ejemplo las API siguientes:\n",
    "\n",
    "- <a href=\"http://api.repo.nypl.org/\">New York Public Library Digital Collections API</a>\n",
    "- <a href=\"https://datahelpdesk.worldbank.org/knowledgebase/articles/889392-api-documentation\">World Bank API</a>\n",
    "- <a href=\"https://developer.nytimes.com/\">las APIS del New York Times</a>\n",
    "- <a href=\"https://pro.europeana.eu/resources/apis\">Europeana Pro API</a>\n",
    "- <a href=\"https://developer.twitter.com/en/docs.html\">APIs de Twitter</a>"
   ]
  },
  {
   "cell_type": "markdown",
   "id": "a50b46c4",
   "metadata": {},
   "source": [
    "## 6. Utilizar la API de Twitter "
   ]
  },
  {
   "cell_type": "markdown",
   "id": "315218ec",
   "metadata": {},
   "source": [
    "documentación de Tweepy: https://docs.tweepy.org/en/stable/index.html"
   ]
  },
  {
   "cell_type": "code",
   "execution_count": null,
   "id": "12402bc9",
   "metadata": {},
   "outputs": [],
   "source": [
    "!pip install tweepy"
   ]
  },
  {
   "cell_type": "code",
   "execution_count": null,
   "id": "795ab754",
   "metadata": {},
   "outputs": [],
   "source": [
    "import os\n",
    "import tweepy as tw\n",
    "import pandas as pd"
   ]
  },
  {
   "cell_type": "code",
   "execution_count": null,
   "id": "d434280a",
   "metadata": {},
   "outputs": [],
   "source": [
    "consumer_key= 'rMMtoLXxDB1FlazaN4A9CWZl7'\n",
    "consumer_secret= 'BLYoo09azoLYes5lOOB0psa1urXIeucMDTpuZCyEo44GT4vgay'\n",
    "access_token= '52061806-CJdzcwNG4S6LzerYqESmrVIxudyLOjFTnpGkeZXNC'\n",
    "access_token_secret= 'Mtq4XM0SCeKY8iHoNb8L7z8vQ3XRsOZcdvZmKlmk1tdQT'"
   ]
  },
  {
   "cell_type": "code",
   "execution_count": null,
   "id": "9e72d4f8",
   "metadata": {},
   "outputs": [],
   "source": [
    "auth = tw.OAuthHandler(consumer_key, consumer_secret)\n",
    "auth.set_access_token(access_token, access_token_secret)\n",
    "api = tw.API(auth, wait_on_rate_limit=True)"
   ]
  },
  {
   "cell_type": "code",
   "execution_count": null,
   "id": "a8ae319f",
   "metadata": {},
   "outputs": [],
   "source": [
    "# Define the search term and the date_since date as variables\n",
    "search_words = \"valdiviacl\"\n",
    "date_since = \"2021-06-23\""
   ]
  },
  {
   "cell_type": "code",
   "execution_count": null,
   "id": "ce00f0d1",
   "metadata": {},
   "outputs": [],
   "source": [
    "# Collect tweets\n",
    "tweets = tw.Cursor(api.search,\n",
    "              q=search_words,\n",
    "              lang=\"es\",\n",
    "              tweet_mode=\"extended\",\n",
    "              since=date_since).items(5)\n",
    "tweets"
   ]
  },
  {
   "cell_type": "code",
   "execution_count": null,
   "id": "076d26b7",
   "metadata": {},
   "outputs": [],
   "source": [
    "# Iterate and print tweets\n",
    "for tweet in tweets:\n",
    "    print(tweet.full_text)"
   ]
  },
  {
   "cell_type": "code",
   "execution_count": null,
   "id": "32f56346",
   "metadata": {},
   "outputs": [],
   "source": [
    "# Collect tweets\n",
    "tweets = tw.Cursor(api.search,\n",
    "              q=search_words+\"-filter:retweets\",\n",
    "              lang=\"es\",\n",
    "              tweet_mode=\"extended\",\n",
    "              since=date_since).items(50)\n",
    "tweets"
   ]
  },
  {
   "cell_type": "code",
   "execution_count": null,
   "id": "0bfa4614",
   "metadata": {},
   "outputs": [],
   "source": [
    "# Iterate and print tweets\n",
    "for tweet in tweets:\n",
    "    print(tweet.full_text)"
   ]
  },
  {
   "cell_type": "code",
   "execution_count": null,
   "id": "417512dc",
   "metadata": {},
   "outputs": [],
   "source": [
    "users_locs = [[tweet.user.screen_name, tweet.user.location] for tweet in tweets]\n",
    "users_locs"
   ]
  },
  {
   "cell_type": "code",
   "execution_count": null,
   "id": "163a7be8",
   "metadata": {},
   "outputs": [],
   "source": [
    "tweet_text = pd.DataFrame(data=users_locs, \n",
    "                    columns=['user', \"location\"])\n",
    "tweet_text"
   ]
  },
  {
   "cell_type": "markdown",
   "id": "1acadc22",
   "metadata": {},
   "source": [
    "## 7. Preguntas/Ejercicios\n",
    "\n",
    "- ¿Cuáles son los 'endpoints' de la API Twitter?\n",
    "- ¿Cuáles son los recursos que provee la API de Twitter? Cuáles son su formato?\n",
    "- ¿Cuáles son las buenas prácticas que siguen los desarrolladores de la API de Twitter?\n",
    "\n",
    "- ¿A partir del modelo Entidad-Relación del caso de estudio \"Sophia2\", definir cuáles 'endpoints' se podrían definir?"
   ]
  },
  {
   "cell_type": "code",
   "execution_count": null,
   "id": "bc252e15",
   "metadata": {},
   "outputs": [],
   "source": []
  }
 ],
 "metadata": {
  "kernelspec": {
   "display_name": "Python 3",
   "language": "python",
   "name": "python3"
  },
  "language_info": {
   "codemirror_mode": {
    "name": "ipython",
    "version": 3
   },
   "file_extension": ".py",
   "mimetype": "text/x-python",
   "name": "python",
   "nbconvert_exporter": "python",
   "pygments_lexer": "ipython3",
   "version": "3.8.5"
  }
 },
 "nbformat": 4,
 "nbformat_minor": 5
}
